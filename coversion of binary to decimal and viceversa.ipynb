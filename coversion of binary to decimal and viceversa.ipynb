print("""

choose an option:

 1.decimal to binary

 2.binary to decimal

 """)

option= int(input("enter a number:")) 

print (option)

if(option==1):

 n=int(input("enter a number:"))

 print(n)

 binary = format(n,'b')

 print(binary) # Output: '100'

if(option==2):

 binary= int(input("enter a number:"))

 print(binary)

 decimal = int(binary, 2)

 print(decimal) # Output: 4
